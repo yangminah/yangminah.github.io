{
 "cells": [
  {
   "cell_type": "markdown",
   "metadata": {},
   "source": [
    "# Leaflet cluster map of talk locations\n",
    "\n",
    "Run this from the _talks/ directory, which contains .md files of all your talks. This scrapes the location YAML field from each .md file, geolocates it with geopy/Nominatim, and uses the getorg library to output data, HTML, and Javascript for a standalone cluster map."
   ]
  },
  {
   "cell_type": "code",
   "execution_count": 1,
   "metadata": {
    "collapsed": false
   },
   "outputs": [
    {
     "name": "stdout",
     "output_type": "stream",
     "text": [
      "Requirement already satisfied: getorg in /Users/minahyang/miniconda3/envs/py38/lib/python3.8/site-packages (0.3.1)\n",
      "Requirement already satisfied: retrying in /Users/minahyang/miniconda3/envs/py38/lib/python3.8/site-packages (from getorg) (1.3.3)\n",
      "Requirement already satisfied: geopy in /Users/minahyang/miniconda3/envs/py38/lib/python3.8/site-packages (from getorg) (2.2.0)\n",
      "Requirement already satisfied: pygithub in /Users/minahyang/miniconda3/envs/py38/lib/python3.8/site-packages (from getorg) (1.56)\n",
      "Requirement already satisfied: geographiclib<2,>=1.49 in /Users/minahyang/miniconda3/envs/py38/lib/python3.8/site-packages (from geopy->getorg) (1.52)\n",
      "Requirement already satisfied: pynacl>=1.4.0 in /Users/minahyang/miniconda3/envs/py38/lib/python3.8/site-packages (from pygithub->getorg) (1.5.0)\n",
      "Requirement already satisfied: pyjwt>=2.0 in /Users/minahyang/miniconda3/envs/py38/lib/python3.8/site-packages (from pygithub->getorg) (2.6.0)\n",
      "Requirement already satisfied: deprecated in /Users/minahyang/miniconda3/envs/py38/lib/python3.8/site-packages (from pygithub->getorg) (1.2.13)\n",
      "Requirement already satisfied: requests>=2.14.0 in /Users/minahyang/miniconda3/envs/py38/lib/python3.8/site-packages (from pygithub->getorg) (2.28.1)\n",
      "Requirement already satisfied: six>=1.7.0 in /Users/minahyang/miniconda3/envs/py38/lib/python3.8/site-packages (from retrying->getorg) (1.16.0)\n",
      "Requirement already satisfied: cffi>=1.4.1 in /Users/minahyang/miniconda3/envs/py38/lib/python3.8/site-packages (from pynacl>=1.4.0->pygithub->getorg) (1.15.1)\n",
      "Requirement already satisfied: idna<4,>=2.5 in /Users/minahyang/miniconda3/envs/py38/lib/python3.8/site-packages (from requests>=2.14.0->pygithub->getorg) (3.4)\n",
      "Requirement already satisfied: charset-normalizer<3,>=2 in /Users/minahyang/miniconda3/envs/py38/lib/python3.8/site-packages (from requests>=2.14.0->pygithub->getorg) (2.1.1)\n",
      "Requirement already satisfied: certifi>=2017.4.17 in /Users/minahyang/miniconda3/envs/py38/lib/python3.8/site-packages (from requests>=2.14.0->pygithub->getorg) (2022.9.24)\n",
      "Requirement already satisfied: urllib3<1.27,>=1.21.1 in /Users/minahyang/miniconda3/envs/py38/lib/python3.8/site-packages (from requests>=2.14.0->pygithub->getorg) (1.26.12)\n",
      "Requirement already satisfied: wrapt<2,>=1.10 in /Users/minahyang/miniconda3/envs/py38/lib/python3.8/site-packages (from deprecated->pygithub->getorg) (1.14.1)\n",
      "Requirement already satisfied: pycparser in /Users/minahyang/miniconda3/envs/py38/lib/python3.8/site-packages (from cffi>=1.4.1->pynacl>=1.4.0->pygithub->getorg) (2.21)\n",
      "Iywidgets and ipyleaflet support disabled. You must be in a Jupyter notebook to use this feature.\n",
      "Error raised:\n",
      "No module named 'ipyleaflet'\n",
      "Check that you have enabled ipyleaflet in Jupyter with:\n",
      "    jupyter nbextension enable --py ipyleaflet\n"
     ]
    }
   ],
   "source": [
    "!pip install getorg --upgrade\n",
    "import glob\n",
    "import getorg\n",
    "from geopy import Nominatim"
   ]
  },
  {
   "cell_type": "code",
   "execution_count": 2,
   "metadata": {
    "collapsed": false
   },
   "outputs": [],
   "source": [
    "g = glob.glob(\"./_talks/*.md\")"
   ]
  },
  {
   "cell_type": "code",
   "execution_count": 5,
   "metadata": {
    "collapsed": true
   },
   "outputs": [],
   "source": [
    "geocoder = Nominatim(user_agent=\"http\")\n",
    "location_dict = {}\n",
    "location = \"\"\n",
    "permalink = \"\"\n",
    "title = \"\""
   ]
  },
  {
   "cell_type": "code",
   "execution_count": 6,
   "metadata": {
    "collapsed": false
   },
   "outputs": [
    {
     "name": "stdout",
     "output_type": "stream",
     "text": [
      "Spokane, WA \n",
      " Spokane, Spokane County, Washington, United States\n",
      "Frankfurt am Main, Germany \n",
      " Frankfurt am Main, Hessen, Deutschland\n",
      "Chicago, IL \n",
      " Chicago, Cook County, Illinois, United States\n",
      "online \n",
      " Online, Croix d'Argent, Montpellier, Hérault, Occitanie, France métropolitaine, France\n",
      "New York, NY \n",
      " City of New York, New York, United States\n",
      "Boulder, Colorado \n",
      " Boulder, Boulder County, Colorado, United States\n"
     ]
    }
   ],
   "source": [
    "\n",
    "for file in g:\n",
    "    with open(file, 'r') as f:\n",
    "        lines = f.read()\n",
    "        if lines.find('location: \"') > 1:\n",
    "            loc_start = lines.find('location: \"') + 11\n",
    "            lines_trim = lines[loc_start:]\n",
    "            loc_end = lines_trim.find('\"')\n",
    "            location = lines_trim[:loc_end]\n",
    "                            \n",
    "           \n",
    "        location_dict[location] = geocoder.geocode(location)\n",
    "        print(location, \"\\n\", location_dict[location])\n"
   ]
  },
  {
   "cell_type": "code",
   "execution_count": 5,
   "metadata": {
    "collapsed": false
   },
   "outputs": [
    {
     "data": {
      "text/plain": [
       "'Written map to ../talkmap/'"
      ]
     },
     "execution_count": 5,
     "metadata": {},
     "output_type": "execute_result"
    }
   ],
   "source": [
    "m = getorg.orgmap.create_map_obj()\n",
    "getorg.orgmap.output_html_cluster_map(location_dict, folder_name=\"../talkmap\", hashed_usernames=False)"
   ]
  },
  {
   "cell_type": "code",
   "execution_count": 7,
   "metadata": {
    "collapsed": true
   },
   "outputs": [
    {
     "data": {
      "text/plain": [
       "{'Spokane, WA': Location(Spokane, Spokane County, Washington, United States, (47.6571934, -117.42351, 0.0)),\n",
       " 'Frankfurt am Main, Germany': Location(Frankfurt am Main, Hessen, Deutschland, (50.1106444, 8.6820917, 0.0)),\n",
       " 'Chicago, IL': Location(Chicago, Cook County, Illinois, United States, (41.8755616, -87.6244212, 0.0)),\n",
       " 'online': Location(Online, Croix d'Argent, Montpellier, Hérault, Occitanie, France métropolitaine, France, (43.59047185, 3.8595132132013186, 0.0)),\n",
       " 'New York, NY': Location(City of New York, New York, United States, (40.7127281, -74.0060152, 0.0)),\n",
       " 'Boulder, Colorado': Location(Boulder, Boulder County, Colorado, United States, (40.0154155, -105.270241, 0.0))}"
      ]
     },
     "execution_count": 7,
     "metadata": {},
     "output_type": "execute_result"
    }
   ],
   "source": [
    "location_dict"
   ]
  },
  {
   "cell_type": "code",
   "execution_count": 8,
   "metadata": {},
   "outputs": [
    {
     "name": "stdout",
     "output_type": "stream",
     "text": [
      "Buffalo, NY \n",
      " Buffalo, Erie County, New York, United States\n",
      "Seoul, South Korea \n",
      " 서울, 대한민국\n",
      "Irvine, CA \n",
      " Irvine, Orange County, CAL Fire Southern Region, California, United States\n",
      "Amherst, MA \n",
      " Amherst, Hampshire County, Massachusetts, United States\n",
      "Boulder, CO \n",
      " Boulder, Boulder County, Colorado, United States\n",
      "New York, NY \n",
      " City of New York, New York, United States\n"
     ]
    }
   ],
   "source": [
    "places_ive_lived = ['Buffalo, NY', 'Seoul, South Korea', 'Irvine, CA', 'Amherst, MA', 'Boulder, CO', 'New York, NY']\n",
    "places_dict={}\n",
    "for place in places_ive_lived:\n",
    "    places_dict[place] = geocoder.geocode(place)\n",
    "    print(place, \"\\n\", places_dict[place])"
   ]
  },
  {
   "cell_type": "code",
   "execution_count": null,
   "metadata": {},
   "outputs": [],
   "source": [
    "m = getorg.orgmap.create_map_obj()\n",
    "getorg.orgmap.output_html_cluster_map(places_dict, folder_name=\"./funmap\", hashed_usernames=False)"
   ]
  }
 ],
 "metadata": {
  "anaconda-cloud": {},
  "kernelspec": {
   "display_name": "Python 3.8.13 ('py38')",
   "language": "python",
   "name": "python3"
  },
  "language_info": {
   "codemirror_mode": {
    "name": "ipython",
    "version": 3
   },
   "file_extension": ".py",
   "mimetype": "text/x-python",
   "name": "python",
   "nbconvert_exporter": "python",
   "pygments_lexer": "ipython3",
   "version": "3.8.13"
  },
  "vscode": {
   "interpreter": {
    "hash": "07355e5bed525fd50fcf58d5bf033eced66c39f2d864a02b935ea8d877856929"
   }
  }
 },
 "nbformat": 4,
 "nbformat_minor": 0
}
